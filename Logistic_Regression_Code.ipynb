{
 "cells": [
  {
   "cell_type": "code",
   "execution_count": 54,
   "id": "85105eb5",
   "metadata": {},
   "outputs": [],
   "source": [
    "from sklearn import datasets\n",
    "import numpy as np\n",
    "from sklearn.linear_model import LogisticRegression\n",
    "import matplotlib.pyplot as plt"
   ]
  },
  {
   "cell_type": "code",
   "execution_count": 55,
   "id": "903fbe1f",
   "metadata": {},
   "outputs": [
    {
     "name": "stdout",
     "output_type": "stream",
     "text": [
      "['data', 'target', 'frame', 'target_names', 'DESCR', 'feature_names', 'filename', 'data_module']\n"
     ]
    }
   ],
   "source": [
    "iris_Data=datasets.load_iris()\n",
    "print(list(iris_Data.keys()))"
   ]
  },
  {
   "cell_type": "code",
   "execution_count": 71,
   "id": "1859fa1b",
   "metadata": {},
   "outputs": [
    {
     "name": "stdout",
     "output_type": "stream",
     "text": [
      "['sepal length (cm)', 'sepal width (cm)', 'petal length (cm)', 'petal width (cm)']\n"
     ]
    }
   ],
   "source": [
    "#print(iris_Data[\"data\"])\n",
    "print(iris_Data[\"feature_names\"])"
   ]
  },
  {
   "cell_type": "code",
   "execution_count": 57,
   "id": "7ccb4fc7",
   "metadata": {},
   "outputs": [
    {
     "name": "stdout",
     "output_type": "stream",
     "text": [
      "[0 0 0 0 0 0 0 0 0 0 0 0 0 0 0 0 0 0 0 0 0 0 0 0 0 0 0 0 0 0 0 0 0 0 0 0 0\n",
      " 0 0 0 0 0 0 0 0 0 0 0 0 0 1 1 1 1 1 1 1 1 1 1 1 1 1 1 1 1 1 1 1 1 1 1 1 1\n",
      " 1 1 1 1 1 1 1 1 1 1 1 1 1 1 1 1 1 1 1 1 1 1 1 1 1 1 2 2 2 2 2 2 2 2 2 2 2\n",
      " 2 2 2 2 2 2 2 2 2 2 2 2 2 2 2 2 2 2 2 2 2 2 2 2 2 2 2 2 2 2 2 2 2 2 2 2 2\n",
      " 2 2]\n"
     ]
    }
   ],
   "source": [
    "print(iris_Data[\"target\"])"
   ]
  },
  {
   "cell_type": "code",
   "execution_count": 58,
   "id": "23f26a86",
   "metadata": {},
   "outputs": [],
   "source": [
    "#print(iris_Data[\"DESCR\"])"
   ]
  },
  {
   "cell_type": "code",
   "execution_count": 59,
   "id": "82f611bf",
   "metadata": {},
   "outputs": [
    {
     "name": "stdout",
     "output_type": "stream",
     "text": [
      "(150, 4)\n"
     ]
    }
   ],
   "source": [
    "print(iris_Data[\"data\"].shape)"
   ]
  },
  {
   "cell_type": "markdown",
   "id": "f1dee725",
   "metadata": {},
   "source": [
    "# using one feature petal width  to train logistic Regression"
   ]
  },
  {
   "cell_type": "code",
   "execution_count": 60,
   "id": "5b88cb2a",
   "metadata": {},
   "outputs": [],
   "source": [
    "feature_X=iris_Data[\"data\"][:,3:]  #used only third column or 3 index\n",
    "#print(feature_X)"
   ]
  },
  {
   "cell_type": "code",
   "execution_count": 61,
   "id": "19220280",
   "metadata": {},
   "outputs": [
    {
     "name": "stdout",
     "output_type": "stream",
     "text": [
      "[0 0 0 0 0 0 0 0 0 0 0 0 0 0 0 0 0 0 0 0 0 0 0 0 0 0 0 0 0 0 0 0 0 0 0 0 0\n",
      " 0 0 0 0 0 0 0 0 0 0 0 0 0 0 0 0 0 0 0 0 0 0 0 0 0 0 0 0 0 0 0 0 0 0 0 0 0\n",
      " 0 0 0 0 0 0 0 0 0 0 0 0 0 0 0 0 0 0 0 0 0 0 0 0 0 0 1 1 1 1 1 1 1 1 1 1 1\n",
      " 1 1 1 1 1 1 1 1 1 1 1 1 1 1 1 1 1 1 1 1 1 1 1 1 1 1 1 1 1 1 1 1 1 1 1 1 1\n",
      " 1 1]\n"
     ]
    },
    {
     "name": "stderr",
     "output_type": "stream",
     "text": [
      "C:\\Users\\Latif Computers\\AppData\\Local\\Temp\\ipykernel_15624\\3792085580.py:1: DeprecationWarning: `np.int` is a deprecated alias for the builtin `int`. To silence this warning, use `int` by itself. Doing this will not modify any behavior and is safe. When replacing `np.int`, you may wish to use e.g. `np.int64` or `np.int32` to specify the precision. If you wish to review your current use, check the release note link for additional information.\n",
      "Deprecated in NumPy 1.20; for more details and guidance: https://numpy.org/devdocs/release/1.20.0-notes.html#deprecations\n",
      "  label_y=(iris_Data[\"target\"]==2).astype(np.int) #true to fale false hy to true\n"
     ]
    }
   ],
   "source": [
    "label_y=(iris_Data[\"target\"]==2).astype(np.int) #true to fale false hy to true\n",
    "print(label_y)"
   ]
  },
  {
   "cell_type": "markdown",
   "id": "aae75e8a",
   "metadata": {},
   "source": [
    "# For Training a logistic regression Classifier"
   ]
  },
  {
   "cell_type": "code",
   "execution_count": 62,
   "id": "70165831",
   "metadata": {},
   "outputs": [
    {
     "name": "stdout",
     "output_type": "stream",
     "text": [
      "[1]\n"
     ]
    }
   ],
   "source": [
    "classifer=LogisticRegression()\n",
    "classifer.fit(feature_X,label_y)\n",
    "checked=classifer.predict(([[2.6]]))       #less then 2 show 0 greater then 2 show 1\n",
    "print(checked)"
   ]
  },
  {
   "cell_type": "markdown",
   "id": "9d1b49e7",
   "metadata": {},
   "source": [
    "# Used matpotlib for visualization the graph"
   ]
  },
  {
   "cell_type": "code",
   "execution_count": 63,
   "id": "82988afe",
   "metadata": {},
   "outputs": [],
   "source": [
    "new_array=np.linspace(0,3,100).reshape(-1,1)\n",
    "#print(new_array) #This is one diamentional array"
   ]
  },
  {
   "cell_type": "code",
   "execution_count": 70,
   "id": "6235045f",
   "metadata": {},
   "outputs": [
    {
     "data": {
      "image/png": "[encoded data removed]",
      "text/plain": [
       "<Figure size 640x480 with 1 Axes>"
      ]
     },
     "metadata": {},
     "output_type": "display_data"
    }
   ],
   "source": [
    "probability_y=classifer.predict_proba(new_array)\n",
    "plt.plot(new_array,probability_y[:,1], \"r-\",label=\"virginica\")\n",
    "plt.show()\n",
    "#print(probability_y) #predicted values"
   ]
  },
  {
   "cell_type": "code",
   "execution_count": null,
   "id": "a73256a9",
   "metadata": {},
   "outputs": [],
   "source": []
  },
  {
   "cell_type": "code",
   "execution_count": null,
   "id": "7b7384c4",
   "metadata": {},
   "outputs": [],
   "source": []
  }
 ],
 "metadata": {
  "kernelspec": {
   "display_name": "Python 3 (ipykernel)",
   "language": "python",
   "name": "python3"
  },
  "language_info": {
   "codemirror_mode": {
    "name": "ipython",
    "version": 3
   },
   "file_extension": ".py",
   "mimetype": "text/x-python",
   "name": "python",
   "nbconvert_exporter": "python",
   "pygments_lexer": "ipython3",
   "version": "3.10.4"
  }
 },
 "nbformat": 4,
 "nbformat_minor": 5
}
