{
 "cells": [
  {
   "cell_type": "code",
   "execution_count": null,
   "id": "e728555f",
   "metadata": {},
   "outputs": [],
   "source": [
    "import matplotlib.pyplot as plt\n",
    "import numpy as np"
   ]
  },
  {
   "cell_type": "code",
   "execution_count": null,
   "id": "e364aff0",
   "metadata": {},
   "outputs": [],
   "source": [
    "from sklearn import datasets,linear_model"
   ]
  },
  {
   "cell_type": "code",
   "execution_count": null,
   "id": "38e37f79",
   "metadata": {},
   "outputs": [],
   "source": [
    "from sklearn.metrics import mean_squared_error"
   ]
  },
  {
   "cell_type": "code",
   "execution_count": null,
   "id": "c95615a1",
   "metadata": {},
   "outputs": [],
   "source": [
    "diabetes_data=np.array([[1],[2],[3]])\n",
    "#diabetes_X=diabetes_data.datasets"
   ]
  },
  {
   "cell_type": "code",
   "execution_count": null,
   "id": "fbd7b6a9",
   "metadata": {},
   "outputs": [],
   "source": [
    "print(diabetes_data.keys())"
   ]
  },
  {
   "cell_type": "code",
   "execution_count": null,
   "id": "30135232",
   "metadata": {},
   "outputs": [],
   "source": [
    "#print(diabetes_data.data)"
   ]
  },
  {
   "cell_type": "code",
   "execution_count": null,
   "id": "8f403c42",
   "metadata": {},
   "outputs": [],
   "source": [
    "#print(diabetes_data.target)"
   ]
  },
  {
   "cell_type": "code",
   "execution_count": null,
   "id": "a7a417e6",
   "metadata": {},
   "outputs": [],
   "source": [
    "#print(diabetes_data.DESCR)"
   ]
  },
  {
   "cell_type": "code",
   "execution_count": null,
   "id": "f1433e94",
   "metadata": {},
   "outputs": [],
   "source": [
    "#For one feature and one label and take index 2\n",
    "diabetes_X=diabetes_data.data[:,np.newaxis,2]\n",
    "#print(diabetes_X)\n",
    "#This give list of list  or array of array"
   ]
  },
  {
   "cell_type": "code",
   "execution_count": null,
   "id": "4a98a6bc",
   "metadata": {},
   "outputs": [],
   "source": [
    "diabtes_X_train=diabetes_X   \n",
    "diabetes_X_test=diabetes_X     "
   ]
  },
  {
   "cell_type": "code",
   "execution_count": null,
   "id": "3d227f75",
   "metadata": {},
   "outputs": [],
   "source": [
    "diabetes_y_train=np.array([1,2,3])\n",
    "diabetes_y_test=np.array([1,2,3])"
   ]
  },
  {
   "cell_type": "code",
   "execution_count": null,
   "id": "93f936d8",
   "metadata": {},
   "outputs": [],
   "source": [
    "#in x axis features \n",
    "#in y axis features \n",
    "#seeing data of features and label to fit linear line"
   ]
  },
  {
   "cell_type": "code",
   "execution_count": null,
   "id": "e5fd5a8c",
   "metadata": {},
   "outputs": [],
   "source": [
    "#Creating linear model\n",
    "model=linear_model.LinearRegression()\n",
    "model.fit(diabtes_X_train,diabetes_y_train)\n",
    "#We learn and draw line\n",
    "diabetes_Prediction=model.predict(diabetes_X_test)    \n",
    "#passing argument for prediction\n",
    "\n",
    "#pridict-actual\n",
    "print(\"MSE Mean squared Error is :\",mean_squared_error(diabetes_y_test,diabetes_Prediction))"
   ]
  },
  {
   "cell_type": "code",
   "execution_count": null,
   "id": "c43a3b9b",
   "metadata": {},
   "outputs": [],
   "source": [
    "print(\"Weights is :\",model.coef_)\n",
    "print(\"Intercept is :\",model.intercept_)"
   ]
  },
  {
   "cell_type": "code",
   "execution_count": null,
   "id": "d55098a5",
   "metadata": {},
   "outputs": [],
   "source": [
    "#For ploting feactures and labels\n",
    "plt.scatter(diabetes_X_test,diabetes_y_test)\n",
    "plt.show()"
   ]
  },
  {
   "cell_type": "code",
   "execution_count": null,
   "id": "837b4813",
   "metadata": {},
   "outputs": [],
   "source": [
    "plt.scatter(diabetes_X_test,diabetes_y_test)\n",
    "plt.plot(diabetes_X_test,diabetes_Prediction)\n",
    "plt.show()"
   ]
  }
 ],
 "metadata": {
  "kernelspec": {
   "display_name": "Python 3 (ipykernel)",
   "language": "python",
   "name": "python3"
  },
  "language_info": {
   "codemirror_mode": {
    "name": "ipython",
    "version": 3
   },
   "file_extension": ".py",
   "mimetype": "text/x-python",
   "name": "python",
   "nbconvert_exporter": "python",
   "pygments_lexer": "ipython3",
   "version": "3.10.4"
  }
 },
 "nbformat": 4,
 "nbformat_minor": 5
}
