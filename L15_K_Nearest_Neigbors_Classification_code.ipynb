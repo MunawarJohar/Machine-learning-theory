{
 "cells": [
  {
   "cell_type": "code",
   "execution_count": null,
   "id": "d3c84e9b",
   "metadata": {},
   "outputs": [],
   "source": [
    "#used these module\n",
    "from sklearn import datasets\n",
    "from sklearn.neighbors import KNeighborsClassifier\n",
    "iris=datasets.load_iris()"
   ]
  },
  {
   "cell_type": "code",
   "execution_count": null,
   "id": "d6b6866a",
   "metadata": {},
   "outputs": [],
   "source": [
    "#print(iris.DESCR)"
   ]
  },
  {
   "cell_type": "code",
   "execution_count": null,
   "id": "2f3bf443",
   "metadata": {},
   "outputs": [],
   "source": [
    "#loading data sets\n",
    "feature=iris.data\n",
    "labels=iris.target\n",
    "print(feature[0],labels[0])"
   ]
  },
  {
   "cell_type": "code",
   "execution_count": null,
   "id": "280c4916",
   "metadata": {},
   "outputs": [],
   "source": [
    "#training the classifier\n",
    "classifier=KNeighborsClassifier()      #train classifier\n",
    "classifier.fit(feature,labels)"
   ]
  },
  {
   "cell_type": "code",
   "execution_count": null,
   "id": "1659bbe7",
   "metadata": {},
   "outputs": [],
   "source": [
    "predict=classifier.predict([[14,1,4,1]]) #to d array"
   ]
  },
  {
   "cell_type": "code",
   "execution_count": null,
   "id": "94dc7497",
   "metadata": {},
   "outputs": [],
   "source": [
    "print(predict)"
   ]
  },
  {
   "cell_type": "code",
   "execution_count": null,
   "id": "e320d00e",
   "metadata": {},
   "outputs": [],
   "source": [
    "#creating machine learning model give accuracy 97%"
   ]
  }
 ],
 "metadata": {
  "kernelspec": {
   "display_name": "Python 3 (ipykernel)",
   "language": "python",
   "name": "python3"
  },
  "language_info": {
   "codemirror_mode": {
    "name": "ipython",
    "version": 3
   },
   "file_extension": ".py",
   "mimetype": "text/x-python",
   "name": "python",
   "nbconvert_exporter": "python",
   "pygments_lexer": "ipython3",
   "version": "3.10.4"
  }
 },
 "nbformat": 4,
 "nbformat_minor": 5
}
