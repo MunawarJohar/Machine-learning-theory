{
 "cells": [
  {
   "cell_type": "code",
   "execution_count": 1,
   "id": "1f8c019f",
   "metadata": {},
   "outputs": [],
   "source": [
    "from sklearn.datasets import fetch_openml\n",
    "import numpy as np\n",
    "from sklearn.linear_model import LogisticRegression\n",
    "from sklearn.model_selection import cross_val_score"
   ]
  },
  {
   "cell_type": "code",
   "execution_count": 2,
   "id": "076bde38",
   "metadata": {},
   "outputs": [],
   "source": [
    "%matplotlib inline"
   ]
  },
  {
   "cell_type": "code",
   "execution_count": 3,
   "id": "8a1934af",
   "metadata": {},
   "outputs": [],
   "source": [
    "import matplotlib\n",
    "import matplotlib.pyplot as plt"
   ]
  },
  {
   "cell_type": "code",
   "execution_count": 4,
   "id": "70f3d4af",
   "metadata": {},
   "outputs": [],
   "source": [
    "Mnist_Data=fetch_openml('mnist_784')"
   ]
  },
  {
   "cell_type": "code",
   "execution_count": 5,
   "id": "1ffb4e9b",
   "metadata": {},
   "outputs": [],
   "source": [
    "x, y=Mnist_Data['data'],Mnist_Data['target']"
   ]
  },
  {
   "cell_type": "code",
   "execution_count": 6,
   "id": "0789f721",
   "metadata": {},
   "outputs": [
    {
     "ename": "SyntaxError",
     "evalue": "invalid syntax (2534276925.py, line 1)",
     "output_type": "error",
     "traceback": [
      "\u001b[1;36m  Input \u001b[1;32mIn [6]\u001b[1;36m\u001b[0m\n\u001b[1;33m    x.shape[]\u001b[0m\n\u001b[1;37m            ^\u001b[0m\n\u001b[1;31mSyntaxError\u001b[0m\u001b[1;31m:\u001b[0m invalid syntax\n"
     ]
    }
   ],
   "source": [
    "x.shape[]"
   ]
  },
  {
   "cell_type": "code",
   "execution_count": null,
   "id": "0b41a2bc",
   "metadata": {},
   "outputs": [],
   "source": [
    "y.shape()"
   ]
  },
  {
   "cell_type": "code",
   "execution_count": null,
   "id": "94efc6d1",
   "metadata": {},
   "outputs": [],
   "source": [
    "check_digit=x[25000]\n",
    "check_digit_image=check_digit.reshape(28,28)"
   ]
  },
  {
   "cell_type": "code",
   "execution_count": null,
   "id": "0c3b66c1",
   "metadata": {},
   "outputs": [],
   "source": [
    "plt.imshow(check_digit,cmap=matplotlib.cm.binary,interpolation=\"nearest\")\n",
    "plt.axis(\"off\")"
   ]
  },
  {
   "cell_type": "code",
   "execution_count": null,
   "id": "002b72ec",
   "metadata": {},
   "outputs": [],
   "source": [
    "y[25000]"
   ]
  },
  {
   "cell_type": "code",
   "execution_count": null,
   "id": "7ec0f87f",
   "metadata": {},
   "outputs": [],
   "source": [
    "train_x,test_x=x[:60000],x[60000]"
   ]
  },
  {
   "cell_type": "code",
   "execution_count": null,
   "id": "39f9c77b",
   "metadata": {},
   "outputs": [],
   "source": [
    "train_y,test_y=y[:60000],y[60000]"
   ]
  },
  {
   "cell_type": "code",
   "execution_count": null,
   "id": "8500c57a",
   "metadata": {},
   "outputs": [],
   "source": [
    "index_shuffle=np.random.permutation(60000)\n",
    "train_x,train_y=train_x[index_shuffle],train_y[index_shuffle]"
   ]
  },
  {
   "cell_type": "markdown",
   "id": "b82f0793",
   "metadata": {},
   "source": [
    "Create a 5 Detector"
   ]
  },
  {
   "cell_type": "code",
   "execution_count": null,
   "id": "6fb9eacc",
   "metadata": {},
   "outputs": [],
   "source": [
    "#train_x=train_x.astyp(np.int8)\n",
    "#train_y=train_y.astyp(np.int8)\n",
    "train_y_5=(train_y=='5')\n",
    "test_y_5=(test_y=='5')       # we can change features"
   ]
  },
  {
   "cell_type": "code",
   "execution_count": null,
   "id": "8131ad58",
   "metadata": {},
   "outputs": [],
   "source": [
    "train_y_5"
   ]
  },
  {
   "cell_type": "code",
   "execution_count": null,
   "id": "64d43c7e",
   "metadata": {},
   "outputs": [],
   "source": [
    "classifier=LogisticRegression(tol=0.1,solver='1bfgs')\n",
    "classifier.fit(train_x,train_y)\n",
    "classifier.predict([check_digit])"
   ]
  },
  {
   "cell_type": "code",
   "execution_count": null,
   "id": "a2fca904",
   "metadata": {},
   "outputs": [],
   "source": [
    "a=cross_val_score(classifier,train_x,train_y,cv=3,scroring=\"accuracy\")"
   ]
  },
  {
   "cell_type": "code",
   "execution_count": null,
   "id": "676b8b7a",
   "metadata": {},
   "outputs": [],
   "source": [
    "a.mean()\n",
    "#accuracy of classifier"
   ]
  },
  {
   "cell_type": "code",
   "execution_count": null,
   "id": "55bed1b8",
   "metadata": {},
   "outputs": [],
   "source": []
  }
 ],
 "metadata": {
  "kernelspec": {
   "display_name": "Python 3 (ipykernel)",
   "language": "python",
   "name": "python3"
  },
  "language_info": {
   "codemirror_mode": {
    "name": "ipython",
    "version": 3
   },
   "file_extension": ".py",
   "mimetype": "text/x-python",
   "name": "python",
   "nbconvert_exporter": "python",
   "pygments_lexer": "ipython3",
   "version": "3.10.4"
  }
 },
 "nbformat": 4,
 "nbformat_minor": 5
}
